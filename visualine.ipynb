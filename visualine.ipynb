{
 "cells": [
  {
   "cell_type": "code",
   "execution_count": 1,
   "id": "730c432a",
   "metadata": {},
   "outputs": [],
   "source": [
    "from pyspark import SparkContext, SparkConf\n",
    "from pyspark.sql import SparkSession\n",
    "import pyspark.sql.functions as F\n",
    "from pyspark.sql.functions import udf\n",
    "from pyspark.sql.types import StringType, DateType, TimestampType\n",
    "import datetime\n",
    "from pandas_datareader import data\n",
    "from bokeh.plotting import figure, show, output_file\n",
    "import pandas as pd\n",
    "import matplotlib.pyplot as plt\n",
    "from pyspark.sql.window import Window"
   ]
  },
  {
   "cell_type": "code",
   "execution_count": 2,
   "id": "9786e971",
   "metadata": {},
   "outputs": [],
   "source": [
    "SPARK_MASTER = \"spark://master:7077\"\n",
    "HDFS_MASTER = \"hdfs://master:9000/\"\n",
    "\n",
    "time = 60 # minute"
   ]
  },
  {
   "cell_type": "code",
   "execution_count": 3,
   "id": "3e83e8e9",
   "metadata": {},
   "outputs": [
    {
     "name": "stderr",
     "output_type": "stream",
     "text": [
      "Setting default log level to \"WARN\".\n",
      "To adjust logging level use sc.setLogLevel(newLevel). For SparkR, use setLogLevel(newLevel).\n"
     ]
    },
    {
     "name": "stdout",
     "output_type": "stream",
     "text": [
      "22/11/12 07:20:06 WARN NativeCodeLoader: Unable to load native-hadoop library for your platform... using builtin-java classes where applicable\n"
     ]
    }
   ],
   "source": [
    "conf = SparkConf()\\\n",
    "    .set(\"spark.executor.memory\", \"2g\")\\\n",
    "    .set(\"spark.executor.core\", \"2\")\\\n",
    "    .setAppName(\"VISUALINE\")\\\n",
    "    .setMaster(SPARK_MASTER)\n",
    "\n",
    "sparkSession = SparkSession.builder.config(conf = conf).getOrCreate()"
   ]
  },
  {
   "cell_type": "code",
   "execution_count": 4,
   "id": "2b8f321e",
   "metadata": {},
   "outputs": [],
   "source": [
    "@udf(returnType=TimestampType())\n",
    "def convert_time(x):\n",
    "    try:\n",
    "        return datetime.datetime.fromtimestamp(int(int(x)/1000))\n",
    "    except:\n",
    "        return None\n",
    "    return None\n",
    "\n",
    "@udf(returnType=StringType())\n",
    "def group_t(x):\n",
    "    try:\n",
    "        day = x.day\n",
    "        month = x.month\n",
    "        year = x.year\n",
    "        hour = x.hour\n",
    "        m = x.minute\n",
    "        m_new = time*(m // time + 1)\n",
    "        time_delta = m_new - m\n",
    "        return str(x + datetime.timedelta(minutes = time_delta, seconds = (x.second)*-1))\n",
    "    except:\n",
    "        return None"
   ]
  },
  {
   "cell_type": "code",
   "execution_count": 5,
   "id": "0163d0af",
   "metadata": {},
   "outputs": [
    {
     "name": "stderr",
     "output_type": "stream",
     "text": [
      "                                                                                \r"
     ]
    }
   ],
   "source": [
    "df = sparkSession.read\\\n",
    "    .option(\"inferSchema\",\"true\")\\\n",
    "    .csv(HDFS_MASTER + \"/data/hdfs/example/1st/*\")\\\n",
    "    .toDF(\"event_type\", \"event_time\", \"symbol\", \"kline_start_time\", \n",
    "         \"kline_close_time\", \"k_symbol\", \"internal\", \"first_trade_id\", \n",
    "         \"last_trade_id\", \"open_price\", \"close_price\", \"high_price\", \"low_price\", \n",
    "         \"base_asset_volume\", \"number_of_trades\", \"is_this_kline_closed\",\n",
    "        \"quote_asset_volume\", \"taker_buy_base_asset_volume\", \"taker_buy_quote_asset_volume\", \"ignore\")\\\n",
    "    .withColumn(\"event_time\", convert_time(F.col(\"event_time\")).cast(TimestampType()))"
   ]
  },
  {
   "cell_type": "code",
   "execution_count": 6,
   "id": "8c85b42c",
   "metadata": {},
   "outputs": [],
   "source": [
    "df = df.withColumn(\"Status\", F.when(F.col(\"close_price\") > F.col(\"open_price\"), \"Increase\")\n",
    "                         .when(F.col(\"close_price\") < F.col(\"open_price\"), \"Decrease\")\n",
    "                         .otherwise(\"Equal\")\n",
    "             )\\\n",
    "        .withColumn(\"Middle\", (F.col(\"open_price\") + F.col(\"close_price\"))/2)\\\n",
    "        .withColumn(\"Height\", F.abs(F.col(\"open_price\") -  F.col(\"close_price\")))\\\n",
    "        .withColumn(\"group_event_time\", group_t(F.col(\"event_time\")))\\\n",
    "        .withColumn(\"index_open\", F.row_number().over(Window.partitionBy(\"group_event_time\").orderBy(F.col(\"event_time\").asc())))\\\n",
    "        .withColumn(\"index_close\", F.row_number().over(Window.partitionBy(\"group_event_time\").orderBy(F.col(\"event_time\").desc())))\\\n",
    "        .groupby(\"group_event_time\").agg(\n",
    "            F.max(F.col(\"high_price\")).alias(\"high_price\"),\n",
    "            F.min(F.col(\"low_price\")).alias(\"low_price\"),\n",
    "            F.max(F.when(F.col(\"index_open\") ==  1, F.col(\"open_price\")).otherwise(0)).alias(\"open_price\"),\n",
    "            F.max(F.when(F.col(\"index_close\") ==  1, F.col(\"close_price\")).otherwise(0)).alias(\"close_price\"),\n",
    "        )"
   ]
  },
  {
   "cell_type": "code",
   "execution_count": 7,
   "id": "7870a07c",
   "metadata": {},
   "outputs": [
    {
     "name": "stderr",
     "output_type": "stream",
     "text": [
      "                                                                                \r"
     ]
    }
   ],
   "source": [
    "df_pandas = df.selectExpr(\"open_price as open\", \"close_price as close\", \"high_price as high\", \"low_price as low\", \"group_event_time\")\\\n",
    "    .toPandas()\\\n",
    "    .set_index(\"group_event_time\")"
   ]
  },
  {
   "cell_type": "code",
   "execution_count": 16,
   "id": "3f2b3567",
   "metadata": {},
   "outputs": [
    {
     "data": {
      "image/png": "[encoded data removed]",
      "text/plain": [
       "<Figure size 640x480 with 1 Axes>"
      ]
     },
     "metadata": {},
     "output_type": "display_data"
    }
   ],
   "source": [
    "# DataFrame to represent opening , closing, high \n",
    "stock_prices = df_pandas\n",
    "  \n",
    "plt.figure()\n",
    "  \n",
    "up = stock_prices[stock_prices.close >= stock_prices.open]\n",
    "  \n",
    "down = stock_prices[stock_prices.close < stock_prices.open]\n",
    "  \n",
    "col1 = 'green'\n",
    "  \n",
    "col2 = 'red'\n",
    "  \n",
    "width = .3\n",
    "width2 = .03\n",
    "  \n",
    "# Plotting up prices of the stock\n",
    "plt.bar(up.index, up.close-up.open, width, bottom=up.open, color=col1)\n",
    "plt.bar(up.index, up.high-up.close, width2, bottom=up.close, color=col1)\n",
    "plt.bar(up.index, up.low-up.open, width2, bottom=up.open, color=col1)\n",
    "  \n",
    "plt.bar(down.index, down.close-down.open, width, bottom=down.open, color=col2)\n",
    "plt.bar(down.index, down.high-down.open, width2, bottom=down.open, color=col2)\n",
    "plt.bar(down.index, down.low-down.close, width2, bottom=down.close, color=col2)\n",
    "  \n",
    "plt.xticks(rotation=30, ha='right')\n",
    "  \n",
    "plt.show()"
   ]
  },
  {
   "cell_type": "code",
   "execution_count": 9,
   "id": "f6e118db",
   "metadata": {},
   "outputs": [
    {
     "data": {
      "text/html": [
       "<style>\n",
       "div.output_area pre {\n",
       "    white-space: pre;\n",
       "}\n",
       "</style>\n"
      ],
      "text/plain": [
       "<IPython.core.display.HTML object>"
      ]
     },
     "metadata": {},
     "output_type": "display_data"
    }
   ],
   "source": []
  },
  {
   "cell_type": "code",
   "execution_count": null,
   "id": "8ade8760",
   "metadata": {},
   "outputs": [],
   "source": []
  }
 ],
 "metadata": {
  "kernelspec": {
   "display_name": "Python 3 (ipykernel)",
   "language": "python",
   "name": "python3"
  },
  "language_info": {
   "codemirror_mode": {
    "name": "ipython",
    "version": 3
   },
   "file_extension": ".py",
   "mimetype": "text/x-python",
   "name": "python",
   "nbconvert_exporter": "python",
   "pygments_lexer": "ipython3",
   "version": "3.9.13"
  }
 },
 "nbformat": 4,
 "nbformat_minor": 5
}
